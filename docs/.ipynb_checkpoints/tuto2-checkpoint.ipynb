{
 "cells": [
  {
   "cell_type": "markdown",
   "id": "18a83e34-c092-4006-88cd-8a6ea5209ab1",
   "metadata": {},
   "source": [
    "## Tutorial number 2 : Running a tractography pipeline on single shell data"
   ]
  },
  {
   "cell_type": "markdown",
   "id": "a8e88e55-6389-4e62-82cf-7e8a20397a46",
   "metadata": {},
   "source": [
    "This tutorial shows steps to run preprocessing and tractography (including freesurfer recon-all and connectome construction) on single shell data"
   ]
  },
  {
   "cell_type": "markdown",
   "id": "40c329d3-e2b0-4064-a5c0-dc10fa9ca436",
   "metadata": {},
   "source": [
    "### Define parameters"
   ]
  },
  {
   "cell_type": "code",
   "execution_count": null,
   "id": "c02ce884-80e0-48e7-a5a9-548a677e3239",
   "metadata": {},
   "outputs": [],
   "source": [
    "pipeline_parameters = {\n",
    "    'freesurfer_path': '/usr/local/freesurfer/7.4.1',\n",
    "    'eddyoptions_param': ' --slm=linear',\n",
    "    'useants_param': True,\n",
    "    'reconall_param': 'all',\n",
    "    'fod_algorithm_param': 'tournier',\n",
    "    'csd_algorithm_param': 'csd',\n",
    "    'tt_algorithm_param': 'fsl',\n",
    "    'flirt_interp_param': 'nearestneighbour',\n",
    "    'flirt_dof_param': 8,\n",
    "    'tckgen_algorithm_param': 'iFOD2',\n",
    "    'tckgen_ntracks_param': 10000000,\n",
    "    'tckgen_backtrack_param': True,\n",
    "    'labelconvert_param': '/path/to/pytracto/pytracto/fs_a2009s.txt',\n",
    "    'fs_lut_param': '/path/to/pytracto/pytracto/FreeSurferColorLUT.txt',\n",
    "    'plugin_processing': 'MultiProc',\n",
    "    'tckgen_method': ['Deterministic'],\n",
    "    'atlas_list': ['Schaefer', 'Destrieux'],\n",
    "}\n",
    "\n",
    "run_steps = {\n",
    "    'convert2bids': False,\n",
    "    'run_pipeline': True,\n",
    "    'createMatrixes': False,\n",
    "    'createROIfile': False,\n",
    "    'QAcheck': False,\n",
    "    'bundleSegmentation': False,\n",
    "    'ClusterConsensus': False,\n",
    "}\n",
    "general_parameters = {\n",
    "    'session_list': [\"V1\",\"V2\"],\n",
    "    'source_dir': \"/path/to/source_dir\",\n",
    "    'dicom_dir': '',\n",
    "    'derivatives_folder': 'derivatives',\n",
    "    'rawdata_folder': 'rawdata',\n",
    "    'group': None,\n",
    "    'group_list': None,\n",
    "    'pipe_name': '',\n",
    "    'result_name': 'none',\n",
    "}\n",
    "\n",
    "dim_template = {\n",
    "    'anat' : [256,256,160],\n",
    "    'dwi' : [112,112,70,33],\n",
    "    'fmap' : [112,112,70,7]\n",
    "}\n",
    "\n",
    "\n",
    "template = {\n",
    "    \"anat\" : \"sub-{subject_id}/ses-{ses_id}/anat/sub-{subject_id}_ses-{ses_id}_T1w.nii.gz\",\n",
    "    \"dwiPA\" : \"sub-{subject_id}/ses-{ses_id}/dwi/sub-{subject_id}_ses-{ses_id}_dir-PA_dwi.nii.gz\",\n",
    "    \"bvecPA\" : \"sub-{subject_id}/ses-{ses_id}/dwi/sub-{subject_id}_ses-{ses_id}_dir-PA_dwi.bvec\",\n",
    "    \"bvalPA\" : \"sub-{subject_id}/ses-{ses_id}/dwi/sub-{subject_id}_ses-{ses_id}_dir-PA_dwi.bval\",\n",
    "    \"dwiAP\" : \"sub-{subject_id}/ses-{ses_id}/fmap/sub-{subject_id}_ses-{ses_id}_dir-AP_epi.nii.gz\",\n",
    "    \"bvecAP\" : \"sub-{subject_id}/ses-{ses_id}/fmap/sub-{subject_id}_ses-{ses_id}_dir-AP_epi.bvec\",\n",
    "    \"bvalAP\" : \"sub-{subject_id}/ses-{ses_id}/fmap/sub-{subject_id}_ses-{ses_id}_dir-AP_epi.bval\"\n",
    "}\n"
   ]
  },
  {
   "cell_type": "markdown",
   "id": "8d339964-a5a8-4be2-bba4-a6f1355eeaa2",
   "metadata": {},
   "source": [
    "### Import modules"
   ]
  },
  {
   "cell_type": "code",
   "execution_count": null,
   "id": "0acaece9-99a4-40c9-81e1-aacf4b1e5a4f",
   "metadata": {},
   "outputs": [],
   "source": [
    "import os\n",
    "import subprocess\n",
    "from bids.layout import BIDSLayout\n",
    "import time\n",
    "\n",
    "from pytracto.BIDS_formatting.heudiconv_conhect import execute_bids_formatting\n",
    "\n",
    "from pytracto.tractography.tractography_utils import *\n",
    "from pytracto.tractography.odd_workflow import execute_odd_workflow\n",
    "from pytracto.tractography.even_workflow import execute_even_workflow\n",
    "from pytracto.tractography.synth_workflow import execute_synth_workflow\n",
    "from pytracto.tractography.single_shell_workflow import execute_single_shell_workflow\n",
    "from pytracto.tractography.single_shell_workflow_remano import execute_single_shell_workflow_remano\n",
    "\n",
    "from pytracto.tractography.single_shell_notopup import *\n",
    "\n",
    "from pytracto.matrixescreation.MatrixesCreation import build_connectivity_matrixes\n",
    "from pytracto.matrixescreation.createROIfile import create_roi_file"
   ]
  },
  {
   "cell_type": "markdown",
   "id": "f57f1457-574c-486e-bd56-3a71eb292240",
   "metadata": {},
   "source": [
    "### Load parameters"
   ]
  },
  {
   "cell_type": "code",
   "execution_count": null,
   "id": "05372b79-d3a0-4fd1-9fee-5f4121897afe",
   "metadata": {},
   "outputs": [],
   "source": [
    "source_dir = general_parameters.get(\"source_dir\")\n",
    "session_list = general_parameters.get(\"session_list\")\n",
    "rawdata_folder = general_parameters.get(\"rawdata_folder\")\n",
    "derivatives_folder = general_parameters.get(\"derivatives_folder\")\n",
    "group = general_parameters.get(\"group\")\n",
    "derivatives_dir = os.path.join(source_dir,derivatives_folder)\n",
    "group_list = general_parameters.get(\"group_list\")\n",
    "\n",
    "\n",
    "if group:\n",
    "    rawdata_dir = os.path.join(source_dir,rawdata_folder,group)\n",
    "else:\n",
    "    rawdata_dir = os.path.join(source_dir,rawdata_folder)\n",
    "\n",
    "\n",
    "convert2bids = run_steps.get(\"convert2bids\")\n",
    "run_pipeline = run_steps.get(\"run_pipeline\")\n",
    "createMatrixes = run_steps.get(\"createMatrixes\")\n",
    "createROIfile = run_steps.get(\"createROIfile\")\n",
    "QAcheck = run_steps.get(\"QAcheck\")\n",
    "bundleSegmentation = run_steps.get(\"bundleSegmentation\")\n",
    "ClusterConsensus = run_steps.get(\"ClusterConsensus\")\n",
    "steps = [convert2bids,run_pipeline,createMatrixes,createROIfile,QAcheck,bundleSegmentation,ClusterConsensus]"
   ]
  },
  {
   "cell_type": "markdown",
   "id": "959a6047-dec5-482a-a71d-12593f15c46f",
   "metadata": {},
   "source": [
    "### Run tractography on single shell workflows"
   ]
  },
  {
   "cell_type": "code",
   "execution_count": null,
   "id": "972c64cd-c772-470e-bcbb-2c055288d6e5",
   "metadata": {},
   "outputs": [],
   "source": [
    "\n",
    "if not os.path.isfile(os.path.join(rawdata_dir,\"workflows.csv\")):\n",
    "    categories_repartition = automatic_repartition(rawdata_dir,dim_template)\n",
    "else:\n",
    "    categories_repartition = pd.read_csv(os.path.join(rawdata_dir,\"workflows.csv\"))\n",
    "\n",
    "workflow_list = categories_repartition['category'].unique()\n",
    "\n",
    "print(workflow_list)\n",
    "\n",
    "wf_map = {\n",
    "    'singleshell' : execute_single_shell_workflow_remano\n",
    "}\n",
    "\n",
    "dcm_folder_file = \"/Volumes/RAMON/code_remano/dicom_folders.csv\"\n",
    "\n",
    "if run_pipeline:\n",
    "    print(\"yes\")\n",
    "    for ses in session_list:\n",
    "            ses_id = \"ses-\" + ses\n",
    "            for wf_category in workflow_list:\n",
    "                print(wf_category)\n",
    "                if wf_category == \"singleshell_synth\" or  wf_category == \"singleshell\":\n",
    "                    print(f\"session {ses} : workflow : {wf_category}\")\n",
    "\n",
    "                    subject_list  = categories_repartition[(categories_repartition['session_id'] == ses_id) & (categories_repartition['category'] == wf_category)]['subject_id']\n",
    "                    subject_list = [s[4:] for s in subject_list]\n",
    "\n",
    "                    print(subject_list)\n",
    "                    print(len(subject_list))\n",
    "\n",
    "                    print(template)\n",
    "\n",
    "                    wf_map.get(wf_category)(source_dir,rawdata_dir,derivatives_dir,subject_list,[ses],template,dcm_folder_file,**pipeline_parameters)"
   ]
  }
 ],
 "metadata": {
  "kernelspec": {
   "display_name": "Python 3 (ipykernel)",
   "language": "python",
   "name": "python3"
  },
  "language_info": {
   "codemirror_mode": {
    "name": "ipython",
    "version": 3
   },
   "file_extension": ".py",
   "mimetype": "text/x-python",
   "name": "python",
   "nbconvert_exporter": "python",
   "pygments_lexer": "ipython3",
   "version": "3.11.5"
  }
 },
 "nbformat": 4,
 "nbformat_minor": 5
}
