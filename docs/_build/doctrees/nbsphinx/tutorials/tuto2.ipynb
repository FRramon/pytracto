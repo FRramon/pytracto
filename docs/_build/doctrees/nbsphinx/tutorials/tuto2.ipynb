{
 "cells": [
  {
   "cell_type": "markdown",
   "id": "18a83e34-c092-4006-88cd-8a6ea5209ab1",
   "metadata": {},
   "source": [
    "## Tutorial number 2 : Running a tractography pipeline on single shell data"
   ]
  },
  {
   "cell_type": "markdown",
   "id": "a8e88e55-6389-4e62-82cf-7e8a20397a46",
   "metadata": {},
   "source": [
    "This tutorial shows steps to run preprocessing and tractography (including freesurfer recon-all and connectome construction) on single shell data"
   ]
  },
  {
   "cell_type": "markdown",
   "id": "40c329d3-e2b0-4064-a5c0-dc10fa9ca436",
   "metadata": {},
   "source": [
    "### Define parameters"
   ]
  },
  {
   "cell_type": "code",
   "execution_count": 1,
   "id": "c02ce884-80e0-48e7-a5a9-548a677e3239",
   "metadata": {
    "execution": {
     "iopub.execute_input": "2025-02-12T14:13:16.159843Z",
     "iopub.status.busy": "2025-02-12T14:13:16.159584Z",
     "iopub.status.idle": "2025-02-12T14:13:16.170140Z",
     "shell.execute_reply": "2025-02-12T14:13:16.169500Z"
    }
   },
   "outputs": [],
   "source": [
    "pipeline_parameters = {\n",
    "    'freesurfer_path': '/usr/local/freesurfer/7.4.1',\n",
    "    'eddyoptions_param': ' --slm=linear',\n",
    "    'useants_param': True,\n",
    "    'reconall_param': 'all',\n",
    "    'fod_algorithm_param': 'tournier',\n",
    "    'csd_algorithm_param': 'csd',\n",
    "    'tt_algorithm_param': 'fsl',\n",
    "    'flirt_interp_param': 'nearestneighbour',\n",
    "    'flirt_dof_param': 8,\n",
    "    'tckgen_algorithm_param': 'iFOD2',\n",
    "    'tckgen_ntracks_param': 10000000,\n",
    "    'tckgen_backtrack_param': True,\n",
    "    'labelconvert_param': '/path/to/pytracto/pytracto/fs_a2009s.txt',\n",
    "    'fs_lut_param': '/path/to/pytracto/pytracto/FreeSurferColorLUT.txt',\n",
    "    'plugin_processing': 'MultiProc',\n",
    "    'tckgen_method': ['Deterministic'],\n",
    "    'atlas_list': ['Schaefer', 'Destrieux'],\n",
    "}\n",
    "run_steps = {\n",
    "    'convert2bids': False,\n",
    "    'run_pipeline': True,\n",
    "    'createMatrixes': False,\n",
    "    'createROIfile': False,\n",
    "    'QAcheck': False,\n",
    "    'bundleSegmentation': False,\n",
    "    'ClusterConsensus': False,\n",
    "}\n",
    "\n",
    "general_parameters = {\n",
    "    'session_list': [\"01\",\"02\"],\n",
    "    'source_dir': \"/path/to/dir\",\n",
    "    'dicom_dir': '',\n",
    "    'derivatives_folder': 'derivatives',\n",
    "    'rawdata_folder': 'rawdata',\n",
    "    'group': None,\n",
    "    'group_list': None,\n",
    "    'pipe_name': None,\n",
    "    'result_name': None,\n",
    "}\n",
    "dim_template = {\n",
    "    'anat' : [256,176,256],\n",
    "    'dwi' : [[128,128,70,31],[128,128,70,7]]\n",
    "} \n"
   ]
  },
  {
   "cell_type": "markdown",
   "id": "8d339964-a5a8-4be2-bba4-a6f1355eeaa2",
   "metadata": {},
   "source": [
    "### Import modules"
   ]
  },
  {
   "cell_type": "code",
   "execution_count": 2,
   "id": "0acaece9-99a4-40c9-81e1-aacf4b1e5a4f",
   "metadata": {
    "execution": {
     "iopub.execute_input": "2025-02-12T14:13:16.173095Z",
     "iopub.status.busy": "2025-02-12T14:13:16.172874Z",
     "iopub.status.idle": "2025-02-12T14:13:18.283684Z",
     "shell.execute_reply": "2025-02-12T14:13:18.283403Z"
    }
   },
   "outputs": [],
   "source": [
    "import os\n",
    "import subprocess\n",
    "from bids.layout import BIDSLayout\n",
    "import time\n",
    "\n",
    "from pytracto.BIDS_formatting.heudiconv_conhect import execute_bids_formatting\n",
    "\n",
    "from pytracto.tractography.tractography_utils import *\n",
    "from pytracto.tractography.odd_workflow import execute_odd_workflow\n",
    "from pytracto.tractography.even_workflow import execute_even_workflow\n",
    "from pytracto.tractography.synth_workflow import execute_synth_workflow\n",
    "from pytracto.tractography.single_shell_workflow import execute_single_shell_workflow\n",
    "from pytracto.tractography.single_shell_notopup import *\n",
    "\n",
    "from pytracto.matrixescreation.MatrixesCreation import build_connectivity_matrixes\n",
    "from pytracto.matrixescreation.createROIfile import create_roi_file"
   ]
  },
  {
   "cell_type": "markdown",
   "id": "f57f1457-574c-486e-bd56-3a71eb292240",
   "metadata": {},
   "source": [
    "### Load parameters"
   ]
  },
  {
   "cell_type": "code",
   "execution_count": 3,
   "id": "05372b79-d3a0-4fd1-9fee-5f4121897afe",
   "metadata": {
    "execution": {
     "iopub.execute_input": "2025-02-12T14:13:18.285041Z",
     "iopub.status.busy": "2025-02-12T14:13:18.284905Z",
     "iopub.status.idle": "2025-02-12T14:13:18.287392Z",
     "shell.execute_reply": "2025-02-12T14:13:18.287154Z"
    }
   },
   "outputs": [],
   "source": [
    "source_dir = general_parameters.get(\"source_dir\")\n",
    "session_list = general_parameters.get(\"session_list\")\n",
    "rawdata_folder = general_parameters.get(\"rawdata_folder\")\n",
    "derivatives_folder = general_parameters.get(\"derivatives_folder\")\n",
    "group = general_parameters.get(\"group\")\n",
    "derivatives_dir = os.path.join(source_dir,derivatives_folder)\n",
    "group_list = general_parameters.get(\"group_list\")\n",
    "\n",
    "\n",
    "if group:\n",
    "\trawdata_dir = os.path.join(source_dir,rawdata_folder,group)\n",
    "else:\n",
    "\trawdata_dir = os.path.join(source_dir,rawdata_folder)\n",
    "\n",
    "\n",
    "convert2bids = run_steps.get(\"convert2bids\")\n",
    "run_pipeline = run_steps.get(\"run_pipeline\")\n",
    "createMatrixes = run_steps.get(\"createMatrixes\")\n",
    "createROIfile = run_steps.get(\"createROIfile\")\n",
    "QAcheck = run_steps.get(\"QAcheck\")\n",
    "bundleSegmentation = run_steps.get(\"bundleSegmentation\")\n",
    "ClusterConsensus = run_steps.get(\"ClusterConsensus\")\n",
    "steps = [convert2bids,run_pipeline,createMatrixes,createROIfile,QAcheck,bundleSegmentation,ClusterConsensus]"
   ]
  },
  {
   "cell_type": "markdown",
   "id": "959a6047-dec5-482a-a71d-12593f15c46f",
   "metadata": {},
   "source": [
    "### Run tractography on single shell workflows"
   ]
  },
  {
   "cell_type": "code",
   "execution_count": 4,
   "id": "972c64cd-c772-470e-bcbb-2c055288d6e5",
   "metadata": {
    "execution": {
     "iopub.execute_input": "2025-02-12T14:13:18.288405Z",
     "iopub.status.busy": "2025-02-12T14:13:18.288341Z",
     "iopub.status.idle": "2025-02-12T14:13:18.444910Z",
     "shell.execute_reply": "2025-02-12T14:13:18.444678Z"
    }
   },
   "outputs": [
    {
     "ename": "FileNotFoundError",
     "evalue": "[Errno 2] No such file or directory: '/path/to/dir/rawdata'",
     "output_type": "error",
     "traceback": [
      "\u001b[0;31m---------------------------------------------------------------------------\u001b[0m",
      "\u001b[0;31mFileNotFoundError\u001b[0m                         Traceback (most recent call last)",
      "Cell \u001b[0;32mIn[4], line 2\u001b[0m\n\u001b[1;32m      1\u001b[0m \u001b[38;5;28;01mif\u001b[39;00m \u001b[38;5;129;01mnot\u001b[39;00m os\u001b[38;5;241m.\u001b[39mpath\u001b[38;5;241m.\u001b[39misfile(os\u001b[38;5;241m.\u001b[39mpath\u001b[38;5;241m.\u001b[39mjoin(rawdata_dir,\u001b[38;5;124m\"\u001b[39m\u001b[38;5;124mworkflows.csv\u001b[39m\u001b[38;5;124m\"\u001b[39m)):\n\u001b[0;32m----> 2\u001b[0m \tcategories_repartition \u001b[38;5;241m=\u001b[39m \u001b[43mautomatic_repartition\u001b[49m\u001b[43m(\u001b[49m\u001b[43mrawdata_dir\u001b[49m\u001b[43m,\u001b[49m\u001b[43mdim_template\u001b[49m\u001b[43m)\u001b[49m\n\u001b[1;32m      3\u001b[0m \u001b[38;5;28;01melse\u001b[39;00m:\n\u001b[1;32m      4\u001b[0m \tcategories_repartition \u001b[38;5;241m=\u001b[39m pd\u001b[38;5;241m.\u001b[39mread_csv(os\u001b[38;5;241m.\u001b[39mpath\u001b[38;5;241m.\u001b[39mjoin(rawdata_dir,\u001b[38;5;124m\"\u001b[39m\u001b[38;5;124mworkflows.csv\u001b[39m\u001b[38;5;124m\"\u001b[39m))\n",
      "File \u001b[0;32m~/miniconda3/lib/python3.11/site-packages/pytracto/tractography/tractography_utils.py:166\u001b[0m, in \u001b[0;36mautomatic_repartition\u001b[0;34m(rawdata_dir, dim_template)\u001b[0m\n\u001b[1;32m    161\u001b[0m \u001b[38;5;28;01mdef\u001b[39;00m \u001b[38;5;21mautomatic_repartition\u001b[39m(rawdata_dir,dim_template):\n\u001b[1;32m    162\u001b[0m \u001b[38;5;250m    \u001b[39m\u001b[38;5;124;03m\"\"\"\u001b[39;00m\n\u001b[1;32m    163\u001b[0m \u001b[38;5;124;03m    First define large categories based on the number of files only : multishell,multishel_synth,singleshell,singleshell_synth\u001b[39;00m\n\u001b[1;32m    164\u001b[0m \u001b[38;5;124;03m    \"\"\"\u001b[39;00m\n\u001b[0;32m--> 166\u001b[0m     subject_list \u001b[38;5;241m=\u001b[39m [s \u001b[38;5;28;01mfor\u001b[39;00m s \u001b[38;5;129;01min\u001b[39;00m \u001b[43mos\u001b[49m\u001b[38;5;241;43m.\u001b[39;49m\u001b[43mlistdir\u001b[49m\u001b[43m(\u001b[49m\u001b[43mrawdata_dir\u001b[49m\u001b[43m)\u001b[49m \u001b[38;5;28;01mif\u001b[39;00m \u001b[38;5;124m\"\u001b[39m\u001b[38;5;124msub-\u001b[39m\u001b[38;5;124m\"\u001b[39m \u001b[38;5;129;01min\u001b[39;00m s \u001b[38;5;129;01mand\u001b[39;00m \u001b[38;5;129;01mnot\u001b[39;00m \u001b[38;5;124m\"\u001b[39m\u001b[38;5;124m.\u001b[39m\u001b[38;5;124m\"\u001b[39m \u001b[38;5;129;01min\u001b[39;00m s]\n\u001b[1;32m    168\u001b[0m     row_list \u001b[38;5;241m=\u001b[39m []\n\u001b[1;32m    170\u001b[0m     \u001b[38;5;28;01mfor\u001b[39;00m sub \u001b[38;5;129;01min\u001b[39;00m tqdm(subject_list):\n",
      "\u001b[0;31mFileNotFoundError\u001b[0m: [Errno 2] No such file or directory: '/path/to/dir/rawdata'"
     ]
    }
   ],
   "source": [
    "if not os.path.isfile(os.path.join(rawdata_dir,\"workflows.csv\")):\n",
    "\tcategories_repartition = automatic_repartition(rawdata_dir,dim_template)\n",
    "else:\n",
    "\tcategories_repartition = pd.read_csv(os.path.join(rawdata_dir,\"workflows.csv\"))\n",
    "\t\n",
    "workflow_list = categories_repartition['category'].unique()\n",
    "\n",
    "print(workflow_list)\n",
    "\n",
    "if run_pipeline:\n",
    "\tfor ses in session_list:\n",
    "\t\tses_id = \"ses-\" + ses\n",
    "\t\tfor wf_category in workflow_list:\n",
    "\t\t\tif wf_category == \"singleshell_synth\" or  wf_category == \"single_shell\":\n",
    "\t\t\t\tprint(f\"session {ses} : workflow : {wf_category}\")\n",
    "\n",
    "\t\t\t\tsubject_list  = categories_repartition[(categories_repartition['session_id'] == ses_id) & (categories_repartition['category'] == wf_category)]['subject_id']\n",
    "\t\t\t\tsubject_list = [s[4:] for s in subject_list]\n",
    "\n",
    "\t\t\t\tprint(subject_list)\n",
    "\t\t\t\tprint(len(subject_list))\n",
    "\t\t\t\t\n",
    "\t\t\t\twf_map.get(wf_category)(source_dir,rawdata_dir,derivatives_dir,subject_list,[ses],template,**pipeline_parameters)\n",
    "\t\t"
   ]
  }
 ],
 "metadata": {
  "kernelspec": {
   "display_name": "Python 3 (ipykernel)",
   "language": "python",
   "name": "python3"
  },
  "language_info": {
   "codemirror_mode": {
    "name": "ipython",
    "version": 3
   },
   "file_extension": ".py",
   "mimetype": "text/x-python",
   "name": "python",
   "nbconvert_exporter": "python",
   "pygments_lexer": "ipython3",
   "version": "3.11.5"
  }
 },
 "nbformat": 4,
 "nbformat_minor": 5
}
