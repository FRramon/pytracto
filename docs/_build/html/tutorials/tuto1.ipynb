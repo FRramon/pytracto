{
 "cells": [
  {
   "cell_type": "markdown",
   "id": "12273a8c-c182-48a8-a0b6-108871f08805",
   "metadata": {},
   "source": [
    "## Tutorial number 3 : how to use data grabber functions."
   ]
  },
  {
   "cell_type": "markdown",
   "id": "67f0decc-0fcd-4307-8e02-a87be8975905",
   "metadata": {},
   "source": [
    "### Lets define required parameters\n",
    "These parameters can be define in a dedicated file like run_parameters.py"
   ]
  },
  {
   "cell_type": "markdown",
   "id": "ebde211c-402e-41ec-be66-c43b68206501",
   "metadata": {},
   "source": [
    "Define pipeline parameters"
   ]
  },
  {
   "cell_type": "code",
   "execution_count": 1,
   "id": "238ff70b-50e3-4c74-b603-e15609395430",
   "metadata": {
    "execution": {
     "iopub.execute_input": "2025-02-28T09:02:55.392354Z",
     "iopub.status.busy": "2025-02-28T09:02:55.391982Z",
     "iopub.status.idle": "2025-02-28T09:02:55.401992Z",
     "shell.execute_reply": "2025-02-28T09:02:55.401212Z"
    }
   },
   "outputs": [],
   "source": [
    "pipeline_parameters = {\n",
    "    'freesurfer_path': '/usr/local/freesurfer/7.4.1',\n",
    "    'eddyoptions_param': ' --slm=linear',\n",
    "    'useants_param': True,\n",
    "    'reconall_param': 'all',\n",
    "    'fod_algorithm_param': 'tournier',\n",
    "    'csd_algorithm_param': 'csd',\n",
    "    'tt_algorithm_param': 'fsl',\n",
    "    'flirt_interp_param': 'nearestneighbour',\n",
    "    'flirt_dof_param': 8,\n",
    "    'tckgen_algorithm_param': 'iFOD2',\n",
    "    'tckgen_ntracks_param': 10000000,\n",
    "    'tckgen_backtrack_param': True,\n",
    "    'labelconvert_param': '/path/to/pytracto/pytracto/fs_a2009s.txt',\n",
    "    'fs_lut_param': '/path/to/pytracto/pytracto/FreeSurferColorLUT.txt',\n",
    "    'plugin_processing': 'MultiProc',\n",
    "    'tckgen_method': ['Deterministic'],\n",
    "    'atlas_list': ['Schaefer', 'Destrieux'],\n",
    "}\n"
   ]
  },
  {
   "cell_type": "markdown",
   "id": "caa10a0f-401f-4bc3-9544-147f355a3f1c",
   "metadata": {},
   "source": [
    "Define run steps. Lets only do run_pipeline for now"
   ]
  },
  {
   "cell_type": "code",
   "execution_count": 2,
   "id": "4812cea2-bb59-4c30-a7b8-1ead2da63aaf",
   "metadata": {
    "execution": {
     "iopub.execute_input": "2025-02-28T09:02:55.404996Z",
     "iopub.status.busy": "2025-02-28T09:02:55.404744Z",
     "iopub.status.idle": "2025-02-28T09:02:55.407815Z",
     "shell.execute_reply": "2025-02-28T09:02:55.407318Z"
    }
   },
   "outputs": [],
   "source": [
    "run_steps = {\n",
    "    'convert2bids': False,\n",
    "    'run_pipeline': True,\n",
    "    'createMatrixes': False,\n",
    "    'createROIfile': False,\n",
    "    'QAcheck': False,\n",
    "    'bundleSegmentation': False,\n",
    "    'ClusterConsensus': False,\n",
    "}"
   ]
  },
  {
   "cell_type": "markdown",
   "id": "9983a575-0d10-42f7-b427-34e65194637e",
   "metadata": {},
   "source": [
    "General parameters are session list, rawdata directory etc."
   ]
  },
  {
   "cell_type": "code",
   "execution_count": 3,
   "id": "e0dbabc3-111a-425b-bfb2-9f8ddd6566a4",
   "metadata": {
    "execution": {
     "iopub.execute_input": "2025-02-28T09:02:55.409897Z",
     "iopub.status.busy": "2025-02-28T09:02:55.409762Z",
     "iopub.status.idle": "2025-02-28T09:02:55.412307Z",
     "shell.execute_reply": "2025-02-28T09:02:55.411951Z"
    }
   },
   "outputs": [],
   "source": [
    "\n",
    "general_parameters = {\n",
    "    'session_list': [\"01\",\"02\"],\n",
    "    'source_dir': \"path/to/dir\",\n",
    "    'dicom_dir': '',\n",
    "    'derivatives_folder': 'derivatives',\n",
    "    'rawdata_folder': 'rawdata',\n",
    "    'group': None,\n",
    "    'group_list': None,\n",
    "    'pipe_name': '',\n",
    "    'result_name': 'none',\n",
    "}"
   ]
  },
  {
   "cell_type": "markdown",
   "id": "5d21b62e-1408-41fb-903e-ddb2845d9e5c",
   "metadata": {},
   "source": [
    "dim_template is the dictionnary containing expected dimensions for anat (T1w) and dwi (dir-PA and dir-AP)"
   ]
  },
  {
   "cell_type": "code",
   "execution_count": 4,
   "id": "3e4456e0-35ed-470c-bfa2-7e4b72e1b0f4",
   "metadata": {
    "execution": {
     "iopub.execute_input": "2025-02-28T09:02:55.414275Z",
     "iopub.status.busy": "2025-02-28T09:02:55.414096Z",
     "iopub.status.idle": "2025-02-28T09:02:55.416502Z",
     "shell.execute_reply": "2025-02-28T09:02:55.416181Z"
    }
   },
   "outputs": [],
   "source": [
    "dim_template = {\n",
    "    'anat' : [256,176,256],\n",
    "    'dwi' : [[128,128,70,31],[128,128,70,7]]\n",
    "} "
   ]
  },
  {
   "cell_type": "markdown",
   "id": "9f4ca33c-15e9-4f53-bb2a-9ac1f8f2994e",
   "metadata": {},
   "source": [
    "### Import modules"
   ]
  },
  {
   "cell_type": "code",
   "execution_count": 5,
   "id": "7c23857f-4a79-4d5f-81e1-adac02195435",
   "metadata": {
    "execution": {
     "iopub.execute_input": "2025-02-28T09:02:55.418079Z",
     "iopub.status.busy": "2025-02-28T09:02:55.417943Z",
     "iopub.status.idle": "2025-02-28T09:02:57.248990Z",
     "shell.execute_reply": "2025-02-28T09:02:57.248687Z"
    }
   },
   "outputs": [],
   "source": [
    "import os\n",
    "import subprocess\n",
    "from bids.layout import BIDSLayout\n",
    "import time\n",
    "\n",
    "from pytracto.BIDS_formatting.heudiconv_conhect import execute_bids_formatting\n",
    "\n",
    "from pytracto.tractography.tractography_utils import *\n",
    "from pytracto.tractography.odd_workflow import execute_odd_workflow\n",
    "from pytracto.tractography.even_workflow import execute_even_workflow\n",
    "from pytracto.tractography.synth_workflow import execute_synth_workflow\n",
    "from pytracto.tractography.single_shell_workflow import execute_single_shell_workflow\n",
    "from pytracto.tractography.single_shell_notopup import *\n",
    "\n",
    "from pytracto.matrixescreation.MatrixesCreation import build_connectivity_matrixes\n",
    "from pytracto.matrixescreation.createROIfile import create_roi_file"
   ]
  },
  {
   "cell_type": "markdown",
   "id": "5b72dfb8-646f-4e17-a4cb-6b479b4cc582",
   "metadata": {},
   "source": [
    "### Load parameters"
   ]
  },
  {
   "cell_type": "code",
   "execution_count": 6,
   "id": "771de3a1-4b45-427c-9e6d-7eacb27d0c6c",
   "metadata": {
    "execution": {
     "iopub.execute_input": "2025-02-28T09:02:57.250510Z",
     "iopub.status.busy": "2025-02-28T09:02:57.250344Z",
     "iopub.status.idle": "2025-02-28T09:02:57.252840Z",
     "shell.execute_reply": "2025-02-28T09:02:57.252627Z"
    }
   },
   "outputs": [],
   "source": [
    "source_dir = general_parameters.get(\"source_dir\")\n",
    "session_list = general_parameters.get(\"session_list\")\n",
    "rawdata_folder = general_parameters.get(\"rawdata_folder\")\n",
    "derivatives_folder = general_parameters.get(\"derivatives_folder\")\n",
    "group = general_parameters.get(\"group\")\n",
    "derivatives_dir = os.path.join(source_dir,derivatives_folder)\n",
    "group_list = general_parameters.get(\"group_list\")\n",
    "\n",
    "\n",
    "if group:\n",
    "\trawdata_dir = os.path.join(source_dir,rawdata_folder,group)\n",
    "else:\n",
    "\trawdata_dir = os.path.join(source_dir,rawdata_folder)\n",
    "\n",
    "\n",
    "convert2bids = run_steps.get(\"convert2bids\")\n",
    "run_pipeline = run_steps.get(\"run_pipeline\")\n",
    "createMatrixes = run_steps.get(\"createMatrixes\")\n",
    "createROIfile = run_steps.get(\"createROIfile\")\n",
    "QAcheck = run_steps.get(\"QAcheck\")\n",
    "bundleSegmentation = run_steps.get(\"bundleSegmentation\")\n",
    "ClusterConsensus = run_steps.get(\"ClusterConsensus\")\n",
    "steps = [convert2bids,run_pipeline,createMatrixes,createROIfile,QAcheck,bundleSegmentation,ClusterConsensus]"
   ]
  },
  {
   "cell_type": "markdown",
   "id": "3cf260a5-61c3-4aaf-adc6-e79b011afbb3",
   "metadata": {},
   "source": [
    "### Perform automatic repartition of subject into worfklows\n",
    "This will check for number of diffusion shells in the data, dimension error, and check if all files are present."
   ]
  },
  {
   "cell_type": "code",
   "execution_count": 7,
   "id": "a651d0a6-d680-4a71-ac7a-8731d9192c4f",
   "metadata": {
    "execution": {
     "iopub.execute_input": "2025-02-28T09:02:57.253891Z",
     "iopub.status.busy": "2025-02-28T09:02:57.253806Z",
     "iopub.status.idle": "2025-02-28T09:02:57.409343Z",
     "shell.execute_reply": "2025-02-28T09:02:57.409103Z"
    }
   },
   "outputs": [
    {
     "ename": "FileNotFoundError",
     "evalue": "[Errno 2] No such file or directory: 'path/to/dir/rawdata'",
     "output_type": "error",
     "traceback": [
      "\u001b[0;31m---------------------------------------------------------------------------\u001b[0m",
      "\u001b[0;31mFileNotFoundError\u001b[0m                         Traceback (most recent call last)",
      "Cell \u001b[0;32mIn[7], line 2\u001b[0m\n\u001b[1;32m      1\u001b[0m \u001b[38;5;28;01mif\u001b[39;00m \u001b[38;5;129;01mnot\u001b[39;00m os\u001b[38;5;241m.\u001b[39mpath\u001b[38;5;241m.\u001b[39misfile(os\u001b[38;5;241m.\u001b[39mpath\u001b[38;5;241m.\u001b[39mjoin(rawdata_dir,\u001b[38;5;124m\"\u001b[39m\u001b[38;5;124mworkflows.csv\u001b[39m\u001b[38;5;124m\"\u001b[39m)):\n\u001b[0;32m----> 2\u001b[0m \tcategories_repartition \u001b[38;5;241m=\u001b[39m \u001b[43mautomatic_repartition\u001b[49m\u001b[43m(\u001b[49m\u001b[43mrawdata_dir\u001b[49m\u001b[43m,\u001b[49m\u001b[43mdim_template\u001b[49m\u001b[43m)\u001b[49m\n\u001b[1;32m      3\u001b[0m \u001b[38;5;28;01melse\u001b[39;00m:\n\u001b[1;32m      4\u001b[0m \tcategories_repartition \u001b[38;5;241m=\u001b[39m pd\u001b[38;5;241m.\u001b[39mread_csv(os\u001b[38;5;241m.\u001b[39mpath\u001b[38;5;241m.\u001b[39mjoin(rawdata_dir,\u001b[38;5;124m\"\u001b[39m\u001b[38;5;124mworkflows.csv\u001b[39m\u001b[38;5;124m\"\u001b[39m))\n",
      "File \u001b[0;32m~/miniconda3/lib/python3.11/site-packages/pytracto/tractography/tractography_utils.py:230\u001b[0m, in \u001b[0;36mautomatic_repartition\u001b[0;34m(rawdata_dir, dim_template)\u001b[0m\n\u001b[1;32m    195\u001b[0m \u001b[38;5;28;01mdef\u001b[39;00m \u001b[38;5;21mautomatic_repartition\u001b[39m(rawdata_dir,dim_template):\n\u001b[1;32m    196\u001b[0m \u001b[38;5;250m    \u001b[39m\u001b[38;5;124;03m\"\"\"\u001b[39;00m\n\u001b[1;32m    197\u001b[0m \u001b[38;5;124;03m    Categorizes diffusion MRI datasets based on the number and type of available files.\u001b[39;00m\n\u001b[1;32m    198\u001b[0m \n\u001b[0;32m   (...)\u001b[0m\n\u001b[1;32m    227\u001b[0m \u001b[38;5;124;03m    The resulting classification is also saved as \"workflows.csv\" in `rawdata_dir`.\u001b[39;00m\n\u001b[1;32m    228\u001b[0m \u001b[38;5;124;03m    \"\"\"\u001b[39;00m\n\u001b[0;32m--> 230\u001b[0m     subject_list \u001b[38;5;241m=\u001b[39m [s \u001b[38;5;28;01mfor\u001b[39;00m s \u001b[38;5;129;01min\u001b[39;00m \u001b[43mos\u001b[49m\u001b[38;5;241;43m.\u001b[39;49m\u001b[43mlistdir\u001b[49m\u001b[43m(\u001b[49m\u001b[43mrawdata_dir\u001b[49m\u001b[43m)\u001b[49m \u001b[38;5;28;01mif\u001b[39;00m \u001b[38;5;124m\"\u001b[39m\u001b[38;5;124msub-\u001b[39m\u001b[38;5;124m\"\u001b[39m \u001b[38;5;129;01min\u001b[39;00m s \u001b[38;5;129;01mand\u001b[39;00m \u001b[38;5;129;01mnot\u001b[39;00m \u001b[38;5;124m\"\u001b[39m\u001b[38;5;124m.\u001b[39m\u001b[38;5;124m\"\u001b[39m \u001b[38;5;129;01min\u001b[39;00m s]\n\u001b[1;32m    232\u001b[0m     \u001b[38;5;28mprint\u001b[39m(subject_list)\n\u001b[1;32m    234\u001b[0m     row_list \u001b[38;5;241m=\u001b[39m []\n",
      "\u001b[0;31mFileNotFoundError\u001b[0m: [Errno 2] No such file or directory: 'path/to/dir/rawdata'"
     ]
    }
   ],
   "source": [
    "if not os.path.isfile(os.path.join(rawdata_dir,\"workflows.csv\")):\n",
    "\tcategories_repartition = automatic_repartition(rawdata_dir,dim_template)\n",
    "else:\n",
    "\tcategories_repartition = pd.read_csv(os.path.join(rawdata_dir,\"workflows.csv\"))\n",
    "\t\n",
    "workflow_list = categories_repartition['category'].unique()\n",
    "\n",
    "print(workflow_list)"
   ]
  },
  {
   "cell_type": "markdown",
   "id": "93cdb01d-ead6-4390-b824-d1cd3e9d72ac",
   "metadata": {},
   "source": [
    "### Explore your dataset "
   ]
  },
  {
   "cell_type": "code",
   "execution_count": 8,
   "id": "48eab8d2-3916-4e8d-ba4a-4e47a1db19ef",
   "metadata": {
    "execution": {
     "iopub.execute_input": "2025-02-28T09:02:57.410455Z",
     "iopub.status.busy": "2025-02-28T09:02:57.410379Z",
     "iopub.status.idle": "2025-02-28T09:02:57.412336Z",
     "shell.execute_reply": "2025-02-28T09:02:57.412124Z"
    }
   },
   "outputs": [
    {
     "ename": "SyntaxError",
     "evalue": "unterminated string literal (detected at line 2) (1220252275.py, line 2)",
     "output_type": "error",
     "traceback": [
      "\u001b[0;36m  Cell \u001b[0;32mIn[8], line 2\u001b[0;36m\u001b[0m\n\u001b[0;31m    subject_list  = categories_repartition[(categories_repartition['session_id'] == ses_id) & (categories_repartition['category'] == \"missing_data)]['subject_id']\u001b[0m\n\u001b[0m                                                                                                                                     ^\u001b[0m\n\u001b[0;31mSyntaxError\u001b[0m\u001b[0;31m:\u001b[0m unterminated string literal (detected at line 2)\n"
     ]
    }
   ],
   "source": [
    "ses_id = ?\n",
    "subject_list  = categories_repartition[(categories_repartition['session_id'] == ses_id) & (categories_repartition['category'] == \"missing_data)]['subject_id']\n",
    "print(subject_list)"
   ]
  }
 ],
 "metadata": {
  "kernelspec": {
   "display_name": "Python 3 (ipykernel)",
   "language": "python",
   "name": "python3"
  },
  "language_info": {
   "codemirror_mode": {
    "name": "ipython",
    "version": 3
   },
   "file_extension": ".py",
   "mimetype": "text/x-python",
   "name": "python",
   "nbconvert_exporter": "python",
   "pygments_lexer": "ipython3",
   "version": "3.11.5"
  }
 },
 "nbformat": 4,
 "nbformat_minor": 5
}
