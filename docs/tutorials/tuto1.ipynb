{
 "cells": [
  {
   "cell_type": "markdown",
   "id": "12273a8c-c182-48a8-a0b6-108871f08805",
   "metadata": {},
   "source": [
    "## Tutorial number 3 : how to use data grabber functions."
   ]
  },
  {
   "cell_type": "markdown",
   "id": "67f0decc-0fcd-4307-8e02-a87be8975905",
   "metadata": {},
   "source": [
    "### Lets define required parameters\n",
    "These parameters can be define in a dedicated file like run_parameters.py"
   ]
  },
  {
   "cell_type": "markdown",
   "id": "ebde211c-402e-41ec-be66-c43b68206501",
   "metadata": {},
   "source": [
    "Define pipeline parameters"
   ]
  },
  {
   "cell_type": "code",
   "execution_count": null,
   "id": "238ff70b-50e3-4c74-b603-e15609395430",
   "metadata": {},
   "outputs": [],
   "source": [
    "pipeline_parameters = {\n",
    "    'freesurfer_path': '/usr/local/freesurfer/7.4.1',\n",
    "    'eddyoptions_param': ' --slm=linear',\n",
    "    'useants_param': True,\n",
    "    'reconall_param': 'all',\n",
    "    'fod_algorithm_param': 'tournier',\n",
    "    'csd_algorithm_param': 'csd',\n",
    "    'tt_algorithm_param': 'fsl',\n",
    "    'flirt_interp_param': 'nearestneighbour',\n",
    "    'flirt_dof_param': 8,\n",
    "    'tckgen_algorithm_param': 'iFOD2',\n",
    "    'tckgen_ntracks_param': 10000000,\n",
    "    'tckgen_backtrack_param': True,\n",
    "    'labelconvert_param': '/path/to/pytracto/pytracto/fs_a2009s.txt',\n",
    "    'fs_lut_param': '/path/to/pytracto/pytracto/FreeSurferColorLUT.txt',\n",
    "    'plugin_processing': 'MultiProc',\n",
    "    'tckgen_method': ['Deterministic'],\n",
    "    'atlas_list': ['Schaefer', 'Destrieux'],\n",
    "}\n"
   ]
  },
  {
   "cell_type": "markdown",
   "id": "caa10a0f-401f-4bc3-9544-147f355a3f1c",
   "metadata": {},
   "source": [
    "Define run steps. Lets only do run_pipeline for now"
   ]
  },
  {
   "cell_type": "code",
   "execution_count": null,
   "id": "4812cea2-bb59-4c30-a7b8-1ead2da63aaf",
   "metadata": {},
   "outputs": [],
   "source": [
    "run_steps = {\n",
    "    'convert2bids': False,\n",
    "    'run_pipeline': True,\n",
    "    'createMatrixes': False,\n",
    "    'createROIfile': False,\n",
    "    'QAcheck': False,\n",
    "    'bundleSegmentation': False,\n",
    "    'ClusterConsensus': False,\n",
    "}"
   ]
  },
  {
   "cell_type": "markdown",
   "id": "9983a575-0d10-42f7-b427-34e65194637e",
   "metadata": {},
   "source": [
    "General parameters are session list, rawdata directory etc."
   ]
  },
  {
   "cell_type": "code",
   "execution_count": null,
   "id": "e0dbabc3-111a-425b-bfb2-9f8ddd6566a4",
   "metadata": {},
   "outputs": [],
   "source": [
    "\n",
    "general_parameters = {\n",
    "    'session_list': [\"01\",\"02\"],\n",
    "    'source_dir': \"path/to/dir\",\n",
    "    'dicom_dir': '',\n",
    "    'derivatives_folder': 'derivatives',\n",
    "    'rawdata_folder': 'rawdata',\n",
    "    'group': None,\n",
    "    'group_list': None,\n",
    "    'pipe_name': '',\n",
    "    'result_name': 'none',\n",
    "}"
   ]
  },
  {
   "cell_type": "markdown",
   "id": "5d21b62e-1408-41fb-903e-ddb2845d9e5c",
   "metadata": {},
   "source": [
    "dim_template is the dictionnary containing expected dimensions for anat (T1w) and dwi (dir-PA and dir-AP)"
   ]
  },
  {
   "cell_type": "code",
   "execution_count": null,
   "id": "3e4456e0-35ed-470c-bfa2-7e4b72e1b0f4",
   "metadata": {},
   "outputs": [],
   "source": [
    "dim_template = {\n",
    "    'anat' : [256,176,256],\n",
    "    'dwi' : [[128,128,70,31],[128,128,70,7]]\n",
    "} "
   ]
  },
  {
   "cell_type": "markdown",
   "id": "9f4ca33c-15e9-4f53-bb2a-9ac1f8f2994e",
   "metadata": {},
   "source": [
    "### Import modules"
   ]
  },
  {
   "cell_type": "code",
   "execution_count": null,
   "id": "7c23857f-4a79-4d5f-81e1-adac02195435",
   "metadata": {},
   "outputs": [],
   "source": [
    "import os\n",
    "import subprocess\n",
    "from bids.layout import BIDSLayout\n",
    "import time\n",
    "\n",
    "from pytracto.BIDS_formatting.heudiconv_conhect import execute_bids_formatting\n",
    "\n",
    "from pytracto.tractography.tractography_utils import *\n",
    "from pytracto.tractography.odd_workflow import execute_odd_workflow\n",
    "from pytracto.tractography.even_workflow import execute_even_workflow\n",
    "from pytracto.tractography.synth_workflow import execute_synth_workflow\n",
    "from pytracto.tractography.single_shell_workflow import execute_single_shell_workflow\n",
    "from pytracto.tractography.single_shell_notopup import *\n",
    "\n",
    "from pytracto.matrixescreation.MatrixesCreation import build_connectivity_matrixes\n",
    "from pytracto.matrixescreation.createROIfile import create_roi_file"
   ]
  },
  {
   "cell_type": "markdown",
   "id": "5b72dfb8-646f-4e17-a4cb-6b479b4cc582",
   "metadata": {},
   "source": [
    "### Load parameters"
   ]
  },
  {
   "cell_type": "code",
   "execution_count": null,
   "id": "771de3a1-4b45-427c-9e6d-7eacb27d0c6c",
   "metadata": {},
   "outputs": [],
   "source": [
    "source_dir = general_parameters.get(\"source_dir\")\n",
    "session_list = general_parameters.get(\"session_list\")\n",
    "rawdata_folder = general_parameters.get(\"rawdata_folder\")\n",
    "derivatives_folder = general_parameters.get(\"derivatives_folder\")\n",
    "group = general_parameters.get(\"group\")\n",
    "derivatives_dir = os.path.join(source_dir,derivatives_folder)\n",
    "group_list = general_parameters.get(\"group_list\")\n",
    "\n",
    "\n",
    "if group:\n",
    "\trawdata_dir = os.path.join(source_dir,rawdata_folder,group)\n",
    "else:\n",
    "\trawdata_dir = os.path.join(source_dir,rawdata_folder)\n",
    "\n",
    "\n",
    "convert2bids = run_steps.get(\"convert2bids\")\n",
    "run_pipeline = run_steps.get(\"run_pipeline\")\n",
    "createMatrixes = run_steps.get(\"createMatrixes\")\n",
    "createROIfile = run_steps.get(\"createROIfile\")\n",
    "QAcheck = run_steps.get(\"QAcheck\")\n",
    "bundleSegmentation = run_steps.get(\"bundleSegmentation\")\n",
    "ClusterConsensus = run_steps.get(\"ClusterConsensus\")\n",
    "steps = [convert2bids,run_pipeline,createMatrixes,createROIfile,QAcheck,bundleSegmentation,ClusterConsensus]"
   ]
  },
  {
   "cell_type": "markdown",
   "id": "3cf260a5-61c3-4aaf-adc6-e79b011afbb3",
   "metadata": {},
   "source": [
    "### Perform automatic repartition of subject into worfklows\n",
    "This will check for number of diffusion shells in the data, dimension error, and check if all files are present."
   ]
  },
  {
   "cell_type": "code",
   "execution_count": null,
   "id": "a651d0a6-d680-4a71-ac7a-8731d9192c4f",
   "metadata": {},
   "outputs": [],
   "source": [
    "if not os.path.isfile(os.path.join(rawdata_dir,\"workflows.csv\")):\n",
    "\tcategories_repartition = automatic_repartition(rawdata_dir,dim_template)\n",
    "else:\n",
    "\tcategories_repartition = pd.read_csv(os.path.join(rawdata_dir,\"workflows.csv\"))\n",
    "\t\n",
    "workflow_list = categories_repartition['category'].unique()\n",
    "\n",
    "print(workflow_list)"
   ]
  },
  {
   "cell_type": "markdown",
   "id": "93cdb01d-ead6-4390-b824-d1cd3e9d72ac",
   "metadata": {},
   "source": [
    "### Explore your dataset "
   ]
  },
  {
   "cell_type": "code",
   "execution_count": null,
   "id": "48eab8d2-3916-4e8d-ba4a-4e47a1db19ef",
   "metadata": {},
   "outputs": [],
   "source": [
    "ses_id = ?\n",
    "subject_list  = categories_repartition[(categories_repartition['session_id'] == ses_id) & (categories_repartition['category'] == \"missing_data)]['subject_id']\n",
    "print(subject_list)"
   ]
  }
 ],
 "metadata": {
  "kernelspec": {
   "display_name": "Python 3 (ipykernel)",
   "language": "python",
   "name": "python3"
  },
  "language_info": {
   "codemirror_mode": {
    "name": "ipython",
    "version": 3
   },
   "file_extension": ".py",
   "mimetype": "text/x-python",
   "name": "python",
   "nbconvert_exporter": "python",
   "pygments_lexer": "ipython3",
   "version": "3.11.5"
  }
 },
 "nbformat": 4,
 "nbformat_minor": 5
}
